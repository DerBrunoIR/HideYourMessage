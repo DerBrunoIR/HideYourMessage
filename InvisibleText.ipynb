{
 "cells": [
  {
   "cell_type": "code",
   "execution_count": null,
   "id": "4a21d6cf",
   "metadata": {
    "scrolled": true
   },
   "outputs": [],
   "source": [
    "from Translator import CharsetTranslatorBuilder\n",
    "\n",
    "zero_width_space = \"​\"\n",
    "invisible_comma = \"⁣\"\n",
    "invisible_plus = \"⁤\"\n",
    "left_to_right_isolator = \"⁦\"\n",
    "right_to_left_isolator = \"⁧\"\n",
    "strong_isolator = \"⁨\"\n",
    "pop_isolator = \"⁩\"\n",
    "symmectric_trade = \"⁪\"\n",
    "activate_symmectric_trade = \"⁫\"\n",
    "\n",
    "invisible_characters = [\n",
    "                        invisible_comma,\n",
    "                        invisible_plus,\n",
    "                        left_to_right_isolator,\n",
    "                        right_to_left_isolator,\n",
    "                        strong_isolator,\n",
    "                        pop_isolator,\n",
    "                        symmectric_trade,\n",
    "                        activate_symmectric_trade,\n",
    "                       ]\n",
    "invisible_separator = zero_width_space\n",
    "\n",
    "builder = CharsetTranslatorBuilder(\"\".join(invisible_characters), invisible_separator)\n",
    "translator = builder.build()\n",
    "\n",
    "text = input(\"Text:\\n\")\n",
    "print()\n",
    "encoded_text = translator.encode(text)\n",
    "print(\"len(encoded_text) =\", len(encoded_text))\n",
    "print(f\"encoded_text='{encoded_text[:20]}'\")\n",
    "\n",
    "decoded_text = \"\".join(translator.decode(encoded_text))\n",
    "print(f\"len(decoded_text)='{len(decoded_text)}'\")\n"
   ]
  },
  {
   "cell_type": "code",
   "execution_count": 12,
   "id": "7deb96bb",
   "metadata": {
    "scrolled": true
   },
   "outputs": [
    {
     "name": "stdout",
     "output_type": "stream",
     "text": [
      "Check:asdf\n"
     ]
    },
    {
     "ename": "KeyError",
     "evalue": "'a'",
     "output_type": "error",
     "traceback": [
      "\u001b[0;31m---------------------------------------------------------------------------\u001b[0m",
      "\u001b[0;31mKeyError\u001b[0m                                  Traceback (most recent call last)",
      "Input \u001b[0;32mIn [12]\u001b[0m, in \u001b[0;36m<cell line: 2>\u001b[0;34m()\u001b[0m\n\u001b[1;32m      1\u001b[0m check_encoded_text \u001b[38;5;241m=\u001b[39m \u001b[38;5;28minput\u001b[39m(\u001b[38;5;124m\"\u001b[39m\u001b[38;5;124mCheck:\u001b[39m\u001b[38;5;124m\"\u001b[39m)\n\u001b[0;32m----> 2\u001b[0m check_decoded_text \u001b[38;5;241m=\u001b[39m \u001b[38;5;124;43m\"\u001b[39;49m\u001b[38;5;124;43m\"\u001b[39;49m\u001b[38;5;241;43m.\u001b[39;49m\u001b[43mjoin\u001b[49m\u001b[43m(\u001b[49m\u001b[43mtranslator\u001b[49m\u001b[38;5;241;43m.\u001b[39;49m\u001b[43mdecode\u001b[49m\u001b[43m(\u001b[49m\u001b[43mcheck_encoded_text\u001b[49m\u001b[43m)\u001b[49m\u001b[43m)\u001b[49m\n\u001b[1;32m      3\u001b[0m \u001b[38;5;28mprint\u001b[39m(\u001b[38;5;124mf\u001b[39m\u001b[38;5;124m\"\u001b[39m\u001b[38;5;124mdecoded_text=\u001b[39m\u001b[38;5;124m'\u001b[39m\u001b[38;5;132;01m{\u001b[39;00mcheck_decoded_text\u001b[38;5;132;01m}\u001b[39;00m\u001b[38;5;124m'\u001b[39m\u001b[38;5;124m\"\u001b[39m)\n",
      "File \u001b[0;32m~/Uni/23SoSe/stuff/hiddenText/Translator.py:156\u001b[0m, in \u001b[0;36m<genexpr>\u001b[0;34m(.0)\u001b[0m\n\u001b[1;32m    155\u001b[0m \u001b[38;5;28;01mdef\u001b[39;00m \u001b[38;5;21mdecode\u001b[39m(\u001b[38;5;28mself\u001b[39m, l: Iterable[D]) \u001b[38;5;241m-\u001b[39m\u001b[38;5;241m>\u001b[39m Iterable[E]:\n\u001b[0;32m--> 156\u001b[0m     \u001b[38;5;28;01mreturn\u001b[39;00m (\n\u001b[1;32m    157\u001b[0m         \u001b[38;5;28mself\u001b[39m\u001b[38;5;241m.\u001b[39mtranslator\u001b[38;5;241m.\u001b[39mdecode(item) \u001b[38;5;28;01mfor\u001b[39;00m item \u001b[38;5;129;01min\u001b[39;00m l\n\u001b[1;32m    158\u001b[0m     )\n",
      "File \u001b[0;32m~/Uni/23SoSe/stuff/hiddenText/Translator.py:156\u001b[0m, in \u001b[0;36m<genexpr>\u001b[0;34m(.0)\u001b[0m\n\u001b[1;32m    155\u001b[0m \u001b[38;5;28;01mdef\u001b[39;00m \u001b[38;5;21mdecode\u001b[39m(\u001b[38;5;28mself\u001b[39m, l: Iterable[D]) \u001b[38;5;241m-\u001b[39m\u001b[38;5;241m>\u001b[39m Iterable[E]:\n\u001b[0;32m--> 156\u001b[0m     \u001b[38;5;28;01mreturn\u001b[39;00m (\n\u001b[1;32m    157\u001b[0m         \u001b[38;5;28mself\u001b[39m\u001b[38;5;241m.\u001b[39mtranslator\u001b[38;5;241m.\u001b[39mdecode(item) \u001b[38;5;28;01mfor\u001b[39;00m item \u001b[38;5;129;01min\u001b[39;00m l\n\u001b[1;32m    158\u001b[0m     )\n",
      "File \u001b[0;32m~/Uni/23SoSe/stuff/hiddenText/Translator.py:157\u001b[0m, in \u001b[0;36m<genexpr>\u001b[0;34m(.0)\u001b[0m\n\u001b[1;32m    155\u001b[0m \u001b[38;5;28;01mdef\u001b[39;00m \u001b[38;5;21mdecode\u001b[39m(\u001b[38;5;28mself\u001b[39m, l: Iterable[D]) \u001b[38;5;241m-\u001b[39m\u001b[38;5;241m>\u001b[39m Iterable[E]:\n\u001b[1;32m    156\u001b[0m     \u001b[38;5;28;01mreturn\u001b[39;00m (\n\u001b[0;32m--> 157\u001b[0m         \u001b[38;5;28;43mself\u001b[39;49m\u001b[38;5;241;43m.\u001b[39;49m\u001b[43mtranslator\u001b[49m\u001b[38;5;241;43m.\u001b[39;49m\u001b[43mdecode\u001b[49m\u001b[43m(\u001b[49m\u001b[43mitem\u001b[49m\u001b[43m)\u001b[49m \u001b[38;5;28;01mfor\u001b[39;00m item \u001b[38;5;129;01min\u001b[39;00m l\n\u001b[1;32m    158\u001b[0m     )\n",
      "File \u001b[0;32m~/Uni/23SoSe/stuff/hiddenText/Translator.py:205\u001b[0m, in \u001b[0;36mFunctionTranslator.decode\u001b[0;34m(self, obj)\u001b[0m\n\u001b[1;32m    204\u001b[0m \u001b[38;5;28;01mdef\u001b[39;00m \u001b[38;5;21mdecode\u001b[39m(\u001b[38;5;28mself\u001b[39m, obj: D):\n\u001b[0;32m--> 205\u001b[0m     \u001b[38;5;28;01mreturn\u001b[39;00m \u001b[38;5;28;43mself\u001b[39;49m\u001b[38;5;241;43m.\u001b[39;49m\u001b[43mf_inv\u001b[49m\u001b[43m(\u001b[49m\u001b[43mobj\u001b[49m\u001b[43m)\u001b[49m\n",
      "File \u001b[0;32m~/Uni/23SoSe/stuff/hiddenText/Translator.py:157\u001b[0m, in \u001b[0;36m<genexpr>\u001b[0;34m(.0)\u001b[0m\n\u001b[1;32m    155\u001b[0m \u001b[38;5;28;01mdef\u001b[39;00m \u001b[38;5;21mdecode\u001b[39m(\u001b[38;5;28mself\u001b[39m, l: Iterable[D]) \u001b[38;5;241m-\u001b[39m\u001b[38;5;241m>\u001b[39m Iterable[E]:\n\u001b[1;32m    156\u001b[0m     \u001b[38;5;28;01mreturn\u001b[39;00m (\n\u001b[0;32m--> 157\u001b[0m         \u001b[38;5;28;43mself\u001b[39;49m\u001b[38;5;241;43m.\u001b[39;49m\u001b[43mtranslator\u001b[49m\u001b[38;5;241;43m.\u001b[39;49m\u001b[43mdecode\u001b[49m\u001b[43m(\u001b[49m\u001b[43mitem\u001b[49m\u001b[43m)\u001b[49m \u001b[38;5;28;01mfor\u001b[39;00m item \u001b[38;5;129;01min\u001b[39;00m l\n\u001b[1;32m    158\u001b[0m     )\n",
      "File \u001b[0;32m~/Uni/23SoSe/stuff/hiddenText/Translator.py:185\u001b[0m, in \u001b[0;36mStringReplacementTranslator.decode\u001b[0;34m(self, obj)\u001b[0m\n\u001b[1;32m    184\u001b[0m \u001b[38;5;28;01mdef\u001b[39;00m \u001b[38;5;21mdecode\u001b[39m(\u001b[38;5;28mself\u001b[39m, obj: D) \u001b[38;5;241m-\u001b[39m\u001b[38;5;241m>\u001b[39m E:\n\u001b[0;32m--> 185\u001b[0m     \u001b[38;5;28;01mreturn\u001b[39;00m \u001b[38;5;28;43mself\u001b[39;49m\u001b[38;5;241;43m.\u001b[39;49m\u001b[43mcharset_inv\u001b[49m\u001b[43m[\u001b[49m\u001b[43mobj\u001b[49m\u001b[43m]\u001b[49m\n",
      "\u001b[0;31mKeyError\u001b[0m: 'a'"
     ]
    }
   ],
   "source": [
    "check_encoded_text = input(\"Check:\")\n",
    "check_decoded_text = \"\".join(translator.decode(check_encoded_text))\n",
    "print(f\"decoded_text='{check_decoded_text}'\")"
   ]
  },
  {
   "cell_type": "code",
   "execution_count": null,
   "id": "210cae25",
   "metadata": {},
   "outputs": [],
   "source": [
    "len(\"\"\"⁤⁦​⁤⁦​⁤⁣⁫​⁤⁪⁦​⁤⁪⁩​⁤⁩⁪​⁤⁨⁨​⁤⁨⁫​⁤⁨⁩​⁤⁪⁧​⁤⁨⁩​⁤⁪⁨​⁤⁫⁦​⁨⁣​⁤⁨⁪​⁧⁫⁨​⁤⁪⁦​⁨⁣​⁤⁨⁨​⁤⁩⁤​⁤⁨⁩​⁨⁣​⁤⁣⁦​⁤⁪⁩​⁤⁩⁪​⁤⁨⁨​⁤⁨⁩​⁤⁪⁧​⁤⁪⁦​⁤⁨⁩​⁤⁪⁣​⁤⁪⁩​⁤⁨⁦​⁤⁩⁨​⁤⁩⁤​⁤⁩⁧​⁨⁣​⁤⁣⁨​⁤⁨⁩​⁤⁪⁩​⁤⁪⁨​⁤⁪⁧​⁤⁨⁧​⁤⁩⁣​⁤⁩⁨​⁤⁨⁤​⁤⁩⁪​⁤⁨⁨​⁤⁦​⁤⁤⁪​⁤⁩⁤​⁤⁨⁧​⁤⁩⁣​⁤⁪⁨​⁤⁨⁤​⁤⁩⁩​⁤⁪⁨​⁤⁩⁨​⁤⁩⁤​⁤⁨⁧​⁤⁩⁣​⁤⁨⁩​⁤⁪⁧​⁨⁣​⁤⁤⁤​⁤⁩⁪​⁤⁩⁣​⁤⁨⁤​⁤⁩⁨​⁤⁪⁨​⁤⁪⁧​⁤⁪⁪​⁤⁨⁩​⁤⁪⁦​⁤⁫⁦​⁤⁨⁩​⁤⁩⁤​⁤⁨⁧​⁤⁩⁣​⁤⁩⁪​⁤⁩⁤​⁤⁪⁧​⁤⁦​⁤⁣⁫​⁤⁣⁫​⁤⁦​⁤⁦​⁤⁣⁤​⁤⁪⁩​⁤⁪⁧​⁤⁨⁪​⁤⁨⁩​⁤⁪⁦​⁤⁪⁨​⁤⁩⁤​⁤⁨⁫​⁤⁪⁩​⁤⁩⁪​⁤⁨⁫​⁤⁪⁧​⁤⁨⁨​⁤⁨⁤​⁤⁪⁨​⁤⁪⁩​⁤⁩⁩​⁫⁦​⁨⁣​⁪⁦​⁪⁧​⁩⁪​⁪⁣​⁪⁩​⁩⁪​⁪⁤​⁫⁤​⁪⁨​⁫⁤​⁤⁦​⁤⁦​⁤⁦⁪​⁤⁩⁫​⁤⁩⁨​⁤⁩⁨​⁤⁫⁦​⁤⁩⁤​⁤⁪⁨​⁤⁨⁤​⁤⁪⁨​⁫⁦​⁤⁦​⁤⁦​⁨⁦​⁤⁣⁫​⁤⁪⁦​⁤⁪⁩​⁤⁩⁪​⁤⁨⁨​⁤⁨⁫​⁤⁨⁩​⁤⁪⁧​⁤⁨⁩​⁤⁪⁨​⁤⁫⁦​⁨⁣​⁤⁨⁪​⁧⁫⁨​⁤⁪⁦​⁨⁣​⁤⁨⁨​⁤⁩⁤​⁤⁨⁩​⁨⁣​⁤⁣⁦​⁤⁪⁩​⁤⁩⁪​⁤⁨⁨​⁤⁨⁩​⁤⁪⁧​⁤⁪⁦​⁤⁨⁩​⁤⁪⁣​⁤⁪⁩​⁤⁨⁦​⁤⁩⁨​⁤⁩⁤​⁤⁩⁧​⁨⁣​⁤⁣⁨​⁤⁨⁩​⁤⁪⁩​⁤⁪⁨​⁤⁪⁧​⁤⁨⁧​⁤⁩⁣​⁤⁩⁨​⁤⁨⁤​⁤⁩⁪​⁤⁨⁨​⁨⁣​⁤⁩⁤​⁤⁩⁪​⁨⁣​⁤⁨⁨​⁤⁨⁩​⁤⁪⁦​⁨⁣​⁤⁩⁤​⁤⁩⁩​⁨⁣​⁤⁣⁦​⁤⁪⁩​⁤⁩⁪​⁤⁨⁨​⁤⁨⁩​⁤⁪⁧​⁤⁨⁫​⁤⁨⁩​⁤⁪⁧​⁤⁨⁩​⁤⁪⁨​⁤⁫⁦​⁤⁨⁦​⁤⁩⁨​⁤⁨⁤​⁤⁪⁨​⁤⁪⁨​⁨⁣​⁤⁦⁨​⁤⁨⁩​⁤⁩⁤​⁤⁩⁨​⁨⁣​⁤⁤⁤​⁤⁤⁤​⁤⁤⁤​⁩⁨​⁨⁣​⁤⁣⁫​⁤⁩⁨​⁤⁩⁤​⁤⁨⁩​⁤⁨⁨​⁤⁨⁩​⁤⁪⁦​⁤⁪⁩​⁤⁩⁪​⁤⁨⁫​⁤⁪⁧​⁤⁩⁪​⁤⁪⁩​⁤⁩⁩​⁤⁩⁩​⁤⁨⁩​⁤⁪⁦​⁨⁣​⁪⁤​⁪⁣​⁪⁣​⁩⁩​⁪⁤​⁩⁨​⁨⁣​⁤⁪⁪​⁤⁨⁩​⁤⁪⁦​⁧⁪⁪​⁤⁨⁪​⁤⁨⁪​⁤⁨⁩​⁤⁩⁪​⁤⁪⁨​⁤⁩⁨​⁤⁩⁤​⁤⁨⁧​⁤⁩⁣​⁤⁪⁨​⁤⁨⁩​⁤⁩⁪​⁨⁣​⁤⁨⁦​⁤⁨⁩​⁤⁪⁦​⁤⁨⁩​⁤⁩⁤​⁤⁩⁪​⁤⁩⁤​⁤⁨⁫​⁤⁪⁨​⁤⁨⁩​⁤⁩⁪​⁨⁣​⁤⁣⁪​⁤⁨⁤​⁤⁪⁧​⁤⁪⁧​⁤⁪⁩​⁤⁩⁪​⁤⁨⁫​⁩⁨​⁨⁣​⁤⁨⁨​⁤⁨⁤​⁤⁪⁧​⁨⁣​⁤⁫⁦​⁤⁪⁩​⁤⁩⁨​⁤⁨⁩​⁤⁪⁨​⁤⁫⁦​⁤⁪⁨​⁨⁣​⁤⁨⁨​⁤⁪⁩​⁤⁪⁦​⁤⁨⁧​⁤⁩⁣​⁨⁣​⁤⁣⁤​⁤⁪⁦​⁤⁪⁨​⁤⁩⁤​⁤⁩⁧​⁤⁨⁩​⁤⁩⁨​⁨⁣​⁪⁤​⁨⁣​⁤⁨⁨​⁤⁨⁩​⁤⁪⁧​⁨⁣​⁤⁣⁫​⁤⁨⁩​⁤⁪⁧​⁤⁨⁩​⁤⁪⁨​⁤⁫⁦​⁤⁨⁩​⁤⁪⁧​⁨⁣​⁤⁪⁪​⁤⁩⁫​⁤⁩⁩​⁨⁣​⁪⁤​⁫⁤​⁩⁪​⁨⁣​⁤⁣⁨​⁤⁨⁩​⁤⁫⁦​⁤⁨⁩​⁤⁩⁩​⁤⁨⁦​⁤⁨⁩​⁤⁪⁦​⁨⁣​⁪⁦​⁪⁣​⁪⁦​⁪⁦​⁨⁣​⁩⁣​⁤⁣⁦​⁤⁣⁫​⁤⁣⁦​⁤⁩⁨​⁩⁪​⁨⁣​⁤⁤⁤​⁨⁣​⁤⁦⁧​⁩⁪​⁨⁣​⁪⁦​⁪⁨​⁪⁫​⁫⁣​⁩⁤​⁨⁣​⁤⁨⁫​⁤⁨⁩​⁧⁨⁨​⁤⁩⁪​⁤⁨⁨​⁤⁨⁩​⁤⁪⁦​⁤⁪⁨​⁨⁣​⁤⁪⁫​⁤⁩⁫​⁤⁪⁦​⁤⁨⁨​⁤⁨⁩​⁤⁩⁪​⁨⁣​⁤⁩⁤​⁤⁪⁧​⁤⁪⁨​⁨⁦​⁤⁦​⁤⁦​⁤⁦⁧​⁤⁪⁨​⁤⁨⁤​⁤⁩⁪​⁤⁨⁨​⁫⁦​⁤⁤​⁤⁧⁦​⁤⁪⁩​⁤⁩⁨​⁤⁨⁩​⁤⁪⁨​⁤⁫⁦​⁤⁪⁨​⁨⁣​⁤⁨⁫​⁤⁨⁩​⁧⁨⁨​⁤⁩⁪​⁤⁨⁨​⁤⁨⁩​⁤⁪⁦​⁤⁪⁨​⁨⁣​⁤⁨⁨​⁤⁪⁩​⁤⁪⁦​⁤⁨⁧​⁤⁩⁣​⁨⁣​⁤⁣⁤​⁤⁪⁦​⁤⁪⁨​⁩⁪​⁨⁣​⁪⁤​⁨⁣​⁤⁣⁫​⁨⁣​⁤⁪⁪​⁩⁪​⁨⁣​⁪⁤​⁫⁤​⁩⁪​⁪⁤​⁪⁦​⁩⁪​⁪⁦​⁪⁣​⁪⁦​⁪⁦​⁨⁣​⁤⁤⁤​⁨⁣​⁪⁦​⁪⁨​⁪⁫​⁫⁣​⁤⁦​⁤⁦​⁤⁤⁪​⁧⁨⁨​⁤⁩⁣​⁤⁨⁩​⁤⁪⁦​⁤⁨⁩​⁤⁪⁧​⁨⁣​⁤⁫⁦​⁤⁪⁩​⁤⁪⁦​⁨⁣​⁤⁦⁧​⁤⁪⁨​⁤⁨⁤​⁤⁩⁪​⁤⁨⁨​⁤⁨⁤​⁤⁩⁪​⁤⁨⁫​⁤⁨⁤​⁤⁨⁦​⁤⁨⁩​⁨⁣​⁤⁨⁪​⁤⁩⁤​⁤⁩⁪​⁤⁨⁨​⁤⁨⁩​⁤⁩⁪​⁨⁣​⁤⁦⁧​⁤⁩⁤​⁤⁨⁩​⁨⁣​⁤⁩⁤​⁤⁩⁩​⁨⁣​⁤⁤⁩​⁤⁨⁩​⁤⁩⁪​⁧⁫⁨​⁨⁣​⁤⁪⁩​⁤⁩⁪​⁤⁪⁨​⁤⁨⁩​⁤⁪⁦​⁨⁣​⁤⁤⁣​⁤⁩⁤​⁤⁩⁪​⁤⁪⁫​⁤⁨⁩​⁤⁩⁤​⁤⁪⁧​⁤⁨⁩​⁤⁦​⁤⁣⁪​⁤⁪⁩​⁧⁧⁫​⁤⁩⁪​⁤⁩⁫​⁤⁪⁨​⁤⁨⁩​⁤⁦​⁩⁣​⁩⁧​⁩⁧​⁩⁧​⁨⁣​⁤⁦⁨​⁤⁨⁩​⁤⁫⁣​⁤⁪⁨​⁤⁩⁪​⁤⁨⁤​⁤⁨⁧​⁤⁩⁣​⁤⁪⁫​⁤⁨⁩​⁤⁩⁤​⁤⁪⁧​⁨⁣​⁤⁣⁫​⁤⁨⁩​⁤⁩⁨​⁤⁪⁨​⁤⁪⁩​⁤⁩⁪​⁤⁨⁫​⁨⁣​⁤⁨⁤​⁤⁨⁦​⁫⁦​⁨⁣​⁪⁤​⁪⁨​⁩⁪​⁪⁤​⁪⁦​⁩⁪​⁪⁤​⁫⁤​⁪⁫​⁪⁪​⁨⁣​⁩⁧​⁩⁧​⁩⁧​⁩⁤​⁤⁦​⁩⁣​⁩⁧​⁩⁧​⁩⁧​⁨⁣​⁤⁤⁩​⁤⁨⁤​⁧⁧⁫​⁤⁨⁫​⁤⁨⁤​⁤⁨⁦​⁤⁨⁩​⁤⁩⁪​⁨⁣​⁤⁨⁤​⁤⁪⁩​⁤⁨⁪​⁤⁨⁫​⁤⁪⁦​⁤⁪⁩​⁤⁩⁪​⁤⁨⁨​⁨⁣​⁤⁨⁨​⁤⁨⁩​⁤⁪⁧​⁨⁣​⁤⁣⁩​⁤⁩⁤​⁤⁩⁪​⁤⁩⁤​⁤⁨⁫​⁤⁦⁪​⁤⁪⁨​⁤⁪⁦​⁨⁣​⁤⁪⁪​⁤⁨⁫​⁤⁩⁨​⁩⁪​⁨⁣​⁤⁣⁫​⁤⁣⁫​⁨⁣​⁤⁣⁤​⁤⁩⁪​⁤⁩⁣​⁤⁨⁤​⁤⁩⁪​⁤⁨⁫​⁨⁣​⁤⁣⁩​⁤⁦⁪​⁨⁣​⁩⁧​⁩⁧​⁩⁧​⁩⁤​⁤⁦​⁤⁦​⁨⁣​⁤⁦​⁤⁤⁪​⁤⁩⁤​⁤⁨⁧​⁤⁩⁣​⁤⁪⁨​⁤⁨⁤​⁤⁩⁩​⁤⁪⁨​⁤⁩⁨​⁤⁩⁤​⁤⁨⁧​⁤⁩⁣​⁤⁨⁩​⁤⁪⁧​⁨⁣​⁤⁤⁤​⁤⁩⁪​⁤⁩⁣​⁤⁨⁤​⁤⁩⁨​⁤⁪⁨​⁤⁪⁧​⁤⁪⁪​⁤⁨⁩​⁤⁪⁦​⁤⁫⁦​⁤⁨⁩​⁤⁩⁤​⁤⁨⁧​⁤⁩⁣​⁤⁩⁪​⁤⁩⁤​⁤⁪⁧​⁤⁦​⁤⁣⁩​⁤⁩⁤​⁤⁩⁪​⁤⁨⁫​⁤⁨⁤​⁤⁩⁪​⁤⁨⁫​⁤⁪⁧​⁤⁨⁪​⁤⁩⁫​⁤⁪⁦​⁤⁩⁩​⁤⁨⁩​⁤⁩⁨​⁨⁣​⁤⁦​⁤⁣⁨​⁤⁨⁩​⁤⁪⁦​⁨⁣​⁤⁦⁣​⁤⁨⁤​⁤⁪⁦​⁤⁩⁨​⁤⁨⁤​⁤⁩⁩​⁤⁨⁩​⁤⁩⁪​⁤⁪⁨​⁤⁨⁤​⁤⁪⁦​⁤⁩⁤​⁤⁪⁧​⁤⁨⁧​⁤⁩⁣​⁤⁨⁩​⁨⁣​⁤⁦⁦​⁤⁨⁤​⁤⁪⁨​⁨⁣​⁤⁩⁣​⁤⁨⁤​⁤⁪⁨​⁨⁣​⁤⁨⁤​⁤⁩⁩​⁨⁣​⁪⁦​⁪⁧​⁩⁪​⁨⁣​⁤⁤⁩​⁤⁨⁤​⁤⁩⁤​⁨⁣​⁪⁤​⁫⁤​⁪⁨​⁫⁤​⁨⁣​⁤⁩⁤​⁤⁩⁪​⁨⁣​⁤⁣⁦​⁤⁩⁫​⁤⁩⁪​⁤⁩⁪​⁨⁣​⁤⁨⁤​⁤⁩⁩​⁨⁣​⁤⁦⁦​⁤⁩⁣​⁤⁨⁩​⁤⁩⁤​⁤⁩⁪​⁨⁣​⁤⁩⁤​⁤⁩⁪​⁨⁣​⁧⁪⁪​⁤⁨⁪​⁤⁨⁪​⁤⁨⁩​⁤⁩⁪​⁤⁪⁨​⁤⁩⁨​⁤⁩⁤​⁤⁨⁧​⁤⁩⁣​⁤⁨⁩​⁤⁪⁦​⁨⁣​⁤⁦⁧​⁤⁩⁤​⁤⁪⁨​⁤⁫⁦​⁤⁪⁩​⁤⁩⁪​⁤⁨⁫​⁨⁣​⁤⁨⁪​⁤⁨⁩​⁤⁪⁧​⁤⁪⁨​⁤⁨⁫​⁤⁨⁩​⁤⁪⁧​⁤⁪⁨​⁤⁨⁩​⁤⁩⁨​⁤⁩⁨​⁤⁪⁨​⁩⁨​⁨⁣​⁤⁨⁨​⁤⁨⁤​⁧⁧⁫​⁨⁣​⁤⁨⁨​⁤⁨⁤​⁤⁪⁧​⁨⁣​⁤⁨⁤​⁤⁩⁩​⁨⁣​⁫⁣​⁩⁪​⁨⁣​⁤⁤⁩​⁤⁨⁤​⁤⁩⁤​⁨⁣​⁤⁨⁨​⁤⁨⁩​⁤⁪⁧​⁨⁣​⁤⁤⁦​⁤⁨⁤​⁤⁩⁣​⁤⁪⁦​⁤⁨⁩​⁤⁪⁧​⁨⁣​⁪⁤​⁫⁤​⁪⁨​⁫⁤​⁨⁣​⁤⁪⁪​⁤⁩⁫​⁤⁩⁩​⁨\"\"\")"
   ]
  },
  {
   "cell_type": "code",
   "execution_count": null,
   "id": "f1137ac6",
   "metadata": {},
   "outputs": [],
   "source": [
    "builder = CharsetTranslatorBuilder(\"\".join(invisible_characters), invisible_separator)\n",
    "translator = builder.build()\n",
    "a = translator.encode(\"Hallo Bennet\")\n",
    "print(a)\n",
    "print(\"\".join(list(translator.decode(a))))\n"
   ]
  },
  {
   "cell_type": "code",
   "execution_count": null,
   "id": "aa9f2969",
   "metadata": {},
   "outputs": [],
   "source": [
    "separator = \" \" + translator.encode(\"\"\"⁫⁨​⁨⁣​⁤⁩⁪​⁤⁨⁫​⁤⁨⁤​⁤⁩⁪​⁤⁨⁫​⁤⁪⁧​⁤⁨⁪​⁤⁩⁫​⁤⁪⁦​⁤⁩⁩​⁤⁨⁩​⁤⁩⁨​⁨⁣​⁤⁦​⁤⁣⁨​⁤⁨⁩​⁤⁪⁦​⁨⁣​⁤⁦⁣​⁤⁨⁤​⁤⁪⁦​⁤⁩⁨​⁤⁨⁤​⁤⁩⁩​⁤⁨⁩​⁤⁩⁪⁤⁩⁣​⁤⁨⁤​⁤⁪⁨​⁨⁣​⁤⁨⁤​⁤⁩⁩​⁨⁣​⁪⁦​⁪⁧​⁩⁪​⁨⁣​⁤⁤⁩​⁤⁨⁤​⁤⁩⁤​⁨⁣​⁪⁤​⁫⁤​⁪⁨​⁫⁤​⁨⁣​⁤⁩⁤​⁤⁩⁪​⁨⁣​⁤⁣⁦​⁤⁩⁫​⁤⁩⁪​⁤⁩⁪​⁨⁣​⁤⁨⁤​⁤⁩⁩​⁨⁣​⁤⁦⁦​⁤⁩⁣​⁤⁨⁩​⁤⁩⁤​⁤⁩⁪​⁨⁣​⁤⁩⁤​⁤⁩⁪​⁨⁣​⁧⁪⁪​⁤⁨⁪​⁤⁨⁪​⁤⁨⁩​⁤⁩⁪​⁤⁪⁨​⁤⁩⁨​⁤⁩⁤​⁤⁨⁧​⁤⁩⁣​⁤⁨⁩​⁤⁪⁦​⁨⁣​⁤⁦⁧​⁤⁩⁤​⁤⁪⁨​⁤⁫⁦​⁤⁪⁩​⁤⁩⁪​⁤⁨⁫​⁨⁣​⁤⁨⁪​⁤⁨⁩​⁤⁪⁧​⁤⁪⁨​⁤⁨⁫​⁤⁨⁩​⁤⁪⁧​⁤⁪⁨​⁤⁨⁩​⁤⁩⁨​⁤⁩⁨​⁤⁪⁨​⁩⁨​⁨⁣​⁤⁨⁨​⁤⁨⁤​⁧⁧⁫​⁨⁣​⁤⁨⁨​⁤⁨⁤​⁤⁪⁧​⁨⁣​⁤⁨⁤​⁤⁩⁩​⁨⁣​⁫⁣​⁩⁪​⁨⁣​⁤⁤⁩​⁤⁨⁤​⁤⁩⁤​⁨⁣​⁤⁨⁨​⁤⁨⁩​⁤⁪⁧​⁨⁣​⁤⁤⁦​⁤⁨⁤​⁤⁩⁣​⁤⁪⁦​⁤⁨⁩​⁤⁪⁧​⁨⁣​⁪⁤​⁫⁤​⁪⁨​⁫⁤​⁨⁣​⁤⁪⁪​⁤⁩⁫​⁤⁩⁩​⁨\"\"\")\n",
    "text_to_animate = \"Just#Testing#Something\".split(\"#\")\n",
    "x = separator.join(text_to_animate)\n",
    "print(f\"'\\n{x}\\n'\")\n",
    "print(len(x))"
   ]
  },
  {
   "cell_type": "code",
   "execution_count": null,
   "id": "07c7f990",
   "metadata": {},
   "outputs": [],
   "source": []
  },
  {
   "cell_type": "code",
   "execution_count": null,
   "id": "1262f9fb",
   "metadata": {},
   "outputs": [],
   "source": []
  },
  {
   "cell_type": "code",
   "execution_count": null,
   "id": "b8fb3ee3",
   "metadata": {},
   "outputs": [],
   "source": []
  }
 ],
 "metadata": {
  "kernelspec": {
   "display_name": "Python 3 (ipykernel)",
   "language": "python",
   "name": "python3"
  },
  "language_info": {
   "codemirror_mode": {
    "name": "ipython",
    "version": 3
   },
   "file_extension": ".py",
   "mimetype": "text/x-python",
   "name": "python",
   "nbconvert_exporter": "python",
   "pygments_lexer": "ipython3",
   "version": "3.10.6"
  }
 },
 "nbformat": 4,
 "nbformat_minor": 5
}
